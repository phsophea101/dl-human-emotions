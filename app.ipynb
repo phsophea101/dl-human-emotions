{
 "cells": [
  {
   "cell_type": "code",
   "execution_count": null,
   "metadata": {},
   "outputs": [],
   "source": [
    "import warnings\n",
    "warnings.filterwarnings(\"ignore\")"
   ]
  },
  {
   "cell_type": "code",
   "execution_count": null,
   "metadata": {},
   "outputs": [],
   "source": [
    "# NumPy for numerical computing\n",
    "import numpy as np\n",
    "# Pandas for DataFrames\n",
    "import pandas as pd\n",
    "# Matplotlib for visualization\n",
    "from matplotlib import pyplot as plt\n",
    "# display plots in the notebook\n",
    "%matplotlib inline\n",
    "# import color maps\n",
    "from matplotlib.colors import ListedColormap\n",
    "# Seaborn for easier visualization\n",
    "import seaborn as sns"
   ]
  },
  {
   "cell_type": "code",
   "execution_count": null,
   "metadata": {},
   "outputs": [],
   "source": [
    "import cv2\n",
    "\n",
    "image_size = (48, 48)\n"
   ]
  },
  {
   "cell_type": "code",
   "execution_count": null,
   "metadata": {},
   "outputs": [],
   "source": [
    "emotion_dict = {\n",
    "    0: \"Neutral\",\n",
    "    1: \"Disgusted\",\n",
    "    2: \"Fearful\",\n",
    "    3: \"Happy\",\n",
    "    4: \"Sad\",\n",
    "    5: \"Surprised\",\n",
    "    6: \"Neutral\"\n",
    "}\n",
    "#emojis unicodes #\n",
    "emojis = {\n",
    "    0: \"\\U0001f620\",\n",
    "    1: \"\\U0001f922\",\n",
    "    2: \"\\U0001f628\",\n",
    "    3: \"\\U0001f60A\",\n",
    "    4: \"\\U0001f625\",\n",
    "    5: \"\\U0001f632\",\n",
    "    6: \"\\U0001f610\"\n",
    "}\n"
   ]
  },
  {
   "cell_type": "code",
   "execution_count": null,
   "metadata": {},
   "outputs": [],
   "source": [
    "print(emojis.values(), sep=\" \")"
   ]
  },
  {
   "cell_type": "code",
   "execution_count": null,
   "metadata": {},
   "outputs": [],
   "source": [
    "# https://www.kaggle.com/code/aayushmishra1512/emotion-detector\n",
    "# https://www.kaggle.com/code/drcapa/facial-expression-eda-cnn/notebook\n",
    "# https://github.com/PrudhviGNV/Facial-Emotion-Recognition-using-CNN/blob/master/Facial_Emotion_Recognition_using_CNN.ipynb\n",
    "# https://www.kaggle.com/code/anantgupt/facial-emotion-recogination-91-accuracy-train-set\n",
    "# https://www.kaggle.com/code/hoangdigan/face-emotion-detecting-vgg16-transfer-learning"
   ]
  }
 ],
 "metadata": {
  "kernelspec": {
   "display_name": "Python 3.9.6 64-bit",
   "language": "python",
   "name": "python3"
  },
  "language_info": {
   "codemirror_mode": {
    "name": "ipython",
    "version": 3
   },
   "file_extension": ".py",
   "mimetype": "text/x-python",
   "name": "python",
   "nbconvert_exporter": "python",
   "pygments_lexer": "ipython3",
   "version": "3.9.6"
  },
  "orig_nbformat": 4,
  "vscode": {
   "interpreter": {
    "hash": "31f2aee4e71d21fbe5cf8b01ff0e069b9275f58929596ceb00d14d90e3e16cd6"
   }
  }
 },
 "nbformat": 4,
 "nbformat_minor": 2
}
