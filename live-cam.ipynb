{
 "cells": [
  {
   "cell_type": "code",
   "execution_count": 10,
   "id": "64554c6a-b806-42ea-859c-81828f1b4ae1",
   "metadata": {
    "tags": []
   },
   "outputs": [],
   "source": [
    "import cv2\n",
    "\n",
    "def _predict(path):\n",
    "  facecasc = cv2.CascadeClassifier('haarcascade_frontalface_default.xml')\n",
    "  imagePath = '../dataset/'+path\n",
    "  image = cv2.imread(imagePath)\n",
    "  gray = cv2.cvtColor(image, cv2.COLOR_BGR2GRAY)\n",
    "  faces = facecasc.detectMultiScale(gray,scaleFactor=1.3, minNeighbors=10)\n",
    "  print(\"No of faces : \",len(faces))\n",
    "  i = 1\n",
    "  for (x, y, w, h) in faces:\n",
    "    cv2.rectangle(image, (x, y), (x+w, y+h), (0, 255, 0), 2)\n",
    "    roi_gray = gray[y:y + h, x:x + w]                      #croping\n",
    "    cropped_img = np.expand_dims(np.expand_dims(cv2.resize(roi_gray, (48, 48)), -1), 0)\n",
    "#     prediction = model.predict(cropped_img)\n",
    "\n",
    "#     maxindex = int(np.argmax(prediction))\n",
    "#     print(\"person \",i,\" : \",emotion_dict[maxindex], \"-->\",emojis[maxindex])\n",
    "#     cv2.putText(image, emotion_dict[maxindex], (x+10, y-20), cv2.FONT_HERSHEY_SIMPLEX, 0.7, (255, 255, 255), 2)  \n",
    "                                              #if text is not apeared , change coordinates. it may work\n",
    "  cv2.imshow('Images',image)"
   ]
  },
  {
   "cell_type": "code",
   "execution_count": null,
   "id": "96be146f-14b2-4553-bfab-360116ca0fbb",
   "metadata": {
    "tags": []
   },
   "outputs": [],
   "source": [
    "_predict('images/khans.jpg')"
   ]
  },
  {
   "cell_type": "code",
   "execution_count": 2,
   "id": "85fcd99b-0f9d-4b22-b52d-af8b8aad8414",
   "metadata": {
    "tags": []
   },
   "outputs": [
    {
     "name": "stderr",
     "output_type": "stream",
     "text": [
      "2023-10-17 02:29:19.783139: I tensorflow/core/util/port.cc:111] oneDNN custom operations are on. You may see slightly different numerical results due to floating-point round-off errors from different computation orders. To turn them off, set the environment variable `TF_ENABLE_ONEDNN_OPTS=0`.\n",
      "2023-10-17 02:29:19.785657: I tensorflow/tsl/cuda/cudart_stub.cc:28] Could not find cuda drivers on your machine, GPU will not be used.\n",
      "2023-10-17 02:29:19.816110: E tensorflow/compiler/xla/stream_executor/cuda/cuda_dnn.cc:9342] Unable to register cuDNN factory: Attempting to register factory for plugin cuDNN when one has already been registered\n",
      "2023-10-17 02:29:19.816147: E tensorflow/compiler/xla/stream_executor/cuda/cuda_fft.cc:609] Unable to register cuFFT factory: Attempting to register factory for plugin cuFFT when one has already been registered\n",
      "2023-10-17 02:29:19.816161: E tensorflow/compiler/xla/stream_executor/cuda/cuda_blas.cc:1518] Unable to register cuBLAS factory: Attempting to register factory for plugin cuBLAS when one has already been registered\n",
      "2023-10-17 02:29:19.823646: I tensorflow/tsl/cuda/cudart_stub.cc:28] Could not find cuda drivers on your machine, GPU will not be used.\n",
      "2023-10-17 02:29:19.824250: I tensorflow/core/platform/cpu_feature_guard.cc:182] This TensorFlow binary is optimized to use available CPU instructions in performance-critical operations.\n",
      "To enable the following instructions: AVX2 AVX512F AVX512_VNNI FMA, in other operations, rebuild TensorFlow with the appropriate compiler flags.\n",
      "2023-10-17 02:29:20.680051: W tensorflow/compiler/tf2tensorrt/utils/py_utils.cc:38] TF-TRT Warning: Could not find TensorRT\n"
     ]
    }
   ],
   "source": [
    "\"\"\" loading the model in modular approach \"\"\"\n",
    "from keras.models import model_from_json\n",
    "def load_model_():\n",
    "  json_file = open('transfer_model.json', 'r')\n",
    "  loaded_model_json = json_file.read()\n",
    "  json_file.close()\n",
    "  model = model_from_json(loaded_model_json)\n",
    "  # load weights into new model\n",
    "  model.load_weights(\"transfer_model.h5\")\n",
    "  return model\n",
    "\n",
    "\n",
    "model = load_model_()"
   ]
  }
 ],
 "metadata": {
  "kernelspec": {
   "display_name": "Python 3 (ipykernel)",
   "language": "python",
   "name": "python3"
  },
  "language_info": {
   "codemirror_mode": {
    "name": "ipython",
    "version": 3
   },
   "file_extension": ".py",
   "mimetype": "text/x-python",
   "name": "python",
   "nbconvert_exporter": "python",
   "pygments_lexer": "ipython3",
   "version": "3.10.10"
  }
 },
 "nbformat": 4,
 "nbformat_minor": 5
}
